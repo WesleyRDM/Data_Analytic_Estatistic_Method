{
  "nbformat": 4,
  "nbformat_minor": 0,
  "metadata": {
    "colab": {
      "provenance": []
    },
    "kernelspec": {
      "name": "python3",
      "display_name": "Python 3"
    },
    "language_info": {
      "name": "python"
    }
  },
  "cells": [
    {
      "cell_type": "code",
      "source": [
        "import pandas as pd\n",
        "from google.colab import files\n",
        "from google.colab import drive\n",
        "uploaded = files.upload()\n",
        "drive.mount('/content/drive')"
      ],
      "metadata": {
        "id": "QGxNvJbK83iY"
      },
      "execution_count": null,
      "outputs": []
    },
    {
      "cell_type": "code",
      "source": [
        "df = pd.read_csv('ca-2004-01.csv', sep=';', encoding='ISO-8859-1')"
      ],
      "metadata": {
        "id": "bdslCPBE9T6S"
      },
      "execution_count": null,
      "outputs": []
    },
    {
      "cell_type": "code",
      "source": [
        "df.head()"
      ],
      "metadata": {
        "id": "fV3h9h8a_UYY"
      },
      "execution_count": null,
      "outputs": []
    },
    {
      "cell_type": "code",
      "source": [
        "df.columns.values"
      ],
      "metadata": {
        "id": "j71GPdAM_1j6"
      },
      "execution_count": null,
      "outputs": []
    },
    {
      "cell_type": "code",
      "source": [
        "dfcolunas = ['Estado - Sigla', 'Municipio', 'Revenda',\n",
        "        'Nome da Rua', 'Produto', 'Data da Coleta', 'Valor de Venda',\n",
        "       'Valor de Compra',  'Bandeira']"
      ],
      "metadata": {
        "id": "K1KgibJjALkw"
      },
      "execution_count": null,
      "outputs": []
    },
    {
      "cell_type": "markdown",
      "source": [
        "# Filtrando e modelando os dados para uma melhor visualização do escopo geral do dataframe."
      ],
      "metadata": {
        "id": "5b8L6RjuqEX8"
      }
    },
    {
      "cell_type": "code",
      "source": [
        "dfFiltrado = df.filter(items=dfcolunas)\n",
        "dfFiltrado = dfFiltrado.rename(columns={'Estado - Sigla': 'Estado'})\n",
        "dfFiltrado.head()"
      ],
      "metadata": {
        "id": "-SA3O7iUAs3O"
      },
      "execution_count": null,
      "outputs": []
    },
    {
      "cell_type": "code",
      "source": [
        "colunaEstados = dfFiltrado['Estado']\n",
        "colunaEstados = colunaEstados.value_counts()\n",
        "colunaEstados"
      ],
      "metadata": {
        "id": "j4PWpyJMBNOJ"
      },
      "execution_count": null,
      "outputs": []
    },
    {
      "cell_type": "code",
      "source": [
        "pEstados = [100*Estado/colunaEstados.sum() for Estado in colunaEstados]\n",
        "pEstados\n",
        "\n"
      ],
      "metadata": {
        "id": "X_GHaeu_CqkG"
      },
      "execution_count": null,
      "outputs": []
    },
    {
      "cell_type": "code",
      "source": [
        "dfColunas = ['Estado - Sigla','Produto', 'Valor de Venda']\n",
        "dfGasolina = df.filter(items=dfColunas)\n",
        "dfGasolina = dfGasolina.loc[dfGasolina['Produto'] == 'GASOLINA'].copy()\n",
        "dfGasolina.head()\n"
      ],
      "metadata": {
        "id": "MBGBQmMTFKjJ"
      },
      "execution_count": null,
      "outputs": []
    },
    {
      "cell_type": "code",
      "source": [
        "dfGasolina['Valor de Venda'] = dfGasolina['Valor de Venda'].str.replace(',', '.')\n",
        "dfGasolina['Valor de Venda'] = pd.to_numeric(dfGasolina['Valor de Venda'])\n",
        "dfGasolina"
      ],
      "metadata": {
        "id": "u4OR3cXwFpqs"
      },
      "execution_count": null,
      "outputs": []
    },
    {
      "cell_type": "markdown",
      "source": [
        "# Agrupando valores do maior pro menor"
      ],
      "metadata": {
        "id": "f_aJQEMpQq8E"
      }
    },
    {
      "cell_type": "code",
      "source": [
        "dfGasolina = dfGasolina.groupby('Estado - Sigla')['Valor de Venda'].mean().reset_index()\n",
        "dfGasolina = dfGasolina.sort_values(by='Valor de Venda', ascending=False)\n",
        "dfGasolina\n"
      ],
      "metadata": {
        "id": "gvD0kCMnI3i3"
      },
      "execution_count": null,
      "outputs": []
    },
    {
      "cell_type": "code",
      "source": [
        "from matplotlib import pyplot as plt\n",
        "MLM= plt.scatter(dfGasolina['Estado - Sigla'], dfGasolina['Valor de Venda'])\n",
        "plt.show()"
      ],
      "metadata": {
        "id": "XO0qfuadQ5bI"
      },
      "execution_count": null,
      "outputs": []
    },
    {
      "cell_type": "code",
      "source": [
        "import sklearn as skl\n",
        "from sklearn import linear_model\n",
        "import numpy as np\n",
        "from numpy import array\n"
      ],
      "metadata": {
        "id": "3mOKZ3ZkQhvb"
      },
      "execution_count": null,
      "outputs": []
    },
    {
      "cell_type": "code",
      "source": [
        "dfGasolina_encoded = pd.get_dummies(dfGasolina, columns=['Estado - Sigla'], drop_first=True)\n",
        "X = dfGasolina_encoded.drop('Valor de Venda', axis=1)\n",
        "y = dfGasolina_encoded['Valor de Venda']"
      ],
      "metadata": {
        "id": "g3gKSnoTTygz"
      },
      "execution_count": null,
      "outputs": []
    },
    {
      "cell_type": "markdown",
      "source": [
        "## Entendendo Y em função de x com regressão linear. Possibilitando que possamos comprender melhor como o valor se comporta em função dos estados."
      ],
      "metadata": {
        "id": "fLYXAlQdpkLk"
      }
    },
    {
      "cell_type": "code",
      "source": [
        "MLM = linear_model.LinearRegression()\n",
        "MLM.fit(X, y)"
      ],
      "metadata": {
        "id": "AhwQToliT4de"
      },
      "execution_count": null,
      "outputs": []
    },
    {
      "cell_type": "code",
      "source": [
        "results = plt.scatter(y, MLM.predict(X))\n",
        "plt.xlabel(\"Valor Atual\")\n",
        "plt.ylabel(\"Previsão Valor de Venda\")\n",
        "plt.title(\"Valor Atual vs. Previsão do Valor de Venda\")\n",
        "plt.show()"
      ],
      "metadata": {
        "id": "H7Fln3zdUCpU"
      },
      "execution_count": null,
      "outputs": []
    },
    {
      "cell_type": "code",
      "source": [
        "a = print(\"Coefficients:\", MLM.coef_)\n",
        "b = print(\"Intercept:\", MLM.intercept_)"
      ],
      "metadata": {
        "id": "4aRLd0CIT7mo"
      },
      "execution_count": null,
      "outputs": []
    },
    {
      "cell_type": "markdown",
      "source": [
        "# Visão Geral de toda Modelagem Estatística"
      ],
      "metadata": {
        "id": "mDZ9WqDbcHME"
      }
    },
    {
      "cell_type": "code",
      "source": [
        "pip install pandas-profiling"
      ],
      "metadata": {
        "id": "LHQkP4_ccDLU"
      },
      "execution_count": null,
      "outputs": []
    },
    {
      "cell_type": "code",
      "source": [
        "!pip install ydata-profiling\n",
        "from ydata_profiling import ProfileReport\n",
        "profile = ProfileReport(dfFiltrado)\n",
        "profile.to_notebook_iframe()\n",
        "profile.to_file('saida.html')"
      ],
      "metadata": {
        "id": "522ZkMznd0LS"
      },
      "execution_count": null,
      "outputs": []
    }
  ]
}